{
  "nbformat": 4,
  "nbformat_minor": 0,
  "metadata": {
    "colab": {
      "name": "AutoML.ipynb",
      "provenance": [],
      "authorship_tag": "ABX9TyN5yVfJ+zYIT23hJrdSANL3",
      "include_colab_link": true
    },
    "kernelspec": {
      "name": "python3",
      "display_name": "Python 3"
    }
  },
  "cells": [
    {
      "cell_type": "markdown",
      "metadata": {
        "id": "view-in-github",
        "colab_type": "text"
      },
      "source": [
        "<a href=\"https://colab.research.google.com/github/shreevasatantry/Auto_ml/blob/main/AutoML.ipynb\" target=\"_parent\"><img src=\"https://colab.research.google.com/assets/colab-badge.svg\" alt=\"Open In Colab\"/></a>"
      ]
    },
    {
      "cell_type": "markdown",
      "metadata": {
        "id": "9Di-xjG-wkNF"
      },
      "source": [
        "## **Auto-sklearn**"
      ]
    },
    {
      "cell_type": "code",
      "metadata": {
        "colab": {
          "base_uri": "https://localhost:8080/"
        },
        "id": "c6p38-5Awpo0",
        "outputId": "319dd758-e59e-43e3-e2fe-2cefb89f686d"
      },
      "source": [
        "!apt-get install swig -y\r\n",
        "!pip install Cython numpy\r\n",
        "!pip install auto-sklearn"
      ],
      "execution_count": 1,
      "outputs": [
        {
          "output_type": "stream",
          "text": [
            "Reading package lists... Done\n",
            "Building dependency tree       \n",
            "Reading state information... Done\n",
            "The following additional packages will be installed:\n",
            "  swig3.0\n",
            "Suggested packages:\n",
            "  swig-doc swig-examples swig3.0-examples swig3.0-doc\n",
            "The following NEW packages will be installed:\n",
            "  swig swig3.0\n",
            "0 upgraded, 2 newly installed, 0 to remove and 29 not upgraded.\n",
            "Need to get 1,100 kB of archives.\n",
            "After this operation, 5,822 kB of additional disk space will be used.\n",
            "Get:1 http://archive.ubuntu.com/ubuntu bionic/universe amd64 swig3.0 amd64 3.0.12-1 [1,094 kB]\n",
            "Get:2 http://archive.ubuntu.com/ubuntu bionic/universe amd64 swig amd64 3.0.12-1 [6,460 B]\n",
            "Fetched 1,100 kB in 1s (1,287 kB/s)\n",
            "Selecting previously unselected package swig3.0.\n",
            "(Reading database ... 160975 files and directories currently installed.)\n",
            "Preparing to unpack .../swig3.0_3.0.12-1_amd64.deb ...\n",
            "Unpacking swig3.0 (3.0.12-1) ...\n",
            "Selecting previously unselected package swig.\n",
            "Preparing to unpack .../swig_3.0.12-1_amd64.deb ...\n",
            "Unpacking swig (3.0.12-1) ...\n",
            "Setting up swig3.0 (3.0.12-1) ...\n",
            "Setting up swig (3.0.12-1) ...\n",
            "Processing triggers for man-db (2.8.3-2ubuntu0.1) ...\n",
            "Requirement already satisfied: Cython in /usr/local/lib/python3.7/dist-packages (0.29.22)\n",
            "Requirement already satisfied: numpy in /usr/local/lib/python3.7/dist-packages (1.19.5)\n",
            "Collecting auto-sklearn\n",
            "\u001b[?25l  Downloading https://files.pythonhosted.org/packages/83/38/4bffa24065793f5b4101db83b9b1d89199df9ba5c4651104e292702f2bef/auto-sklearn-0.12.3.tar.gz (6.1MB)\n",
            "\u001b[K     |████████████████████████████████| 6.1MB 5.0MB/s \n",
            "\u001b[?25hRequirement already satisfied: setuptools in /usr/local/lib/python3.7/dist-packages (from auto-sklearn) (54.0.0)\n",
            "Requirement already satisfied: numpy>=1.9.0 in /usr/local/lib/python3.7/dist-packages (from auto-sklearn) (1.19.5)\n",
            "Requirement already satisfied: scipy>=0.14.1 in /usr/local/lib/python3.7/dist-packages (from auto-sklearn) (1.4.1)\n",
            "Requirement already satisfied: joblib in /usr/local/lib/python3.7/dist-packages (from auto-sklearn) (1.0.1)\n",
            "Collecting scikit-learn<0.25.0,>=0.24.0\n",
            "\u001b[?25l  Downloading https://files.pythonhosted.org/packages/f3/74/eb899f41d55f957e2591cde5528e75871f817d9fb46d4732423ecaca736d/scikit_learn-0.24.1-cp37-cp37m-manylinux2010_x86_64.whl (22.3MB)\n",
            "\u001b[K     |████████████████████████████████| 22.3MB 2.5MB/s \n",
            "\u001b[?25hRequirement already satisfied: dask in /usr/local/lib/python3.7/dist-packages (from auto-sklearn) (2.12.0)\n",
            "Collecting distributed>=2.2.0\n",
            "\u001b[?25l  Downloading https://files.pythonhosted.org/packages/96/b7/f58dd1e30f940a8b38de10f5d92b2fce08f38dcba3eb1ddb017260588ed4/distributed-2021.3.0-py3-none-any.whl (675kB)\n",
            "\u001b[K     |████████████████████████████████| 675kB 50.3MB/s \n",
            "\u001b[?25hRequirement already satisfied: pyyaml in /usr/local/lib/python3.7/dist-packages (from auto-sklearn) (3.13)\n",
            "Requirement already satisfied: pandas>=1.0 in /usr/local/lib/python3.7/dist-packages (from auto-sklearn) (1.1.5)\n",
            "Collecting liac-arff\n",
            "  Downloading https://files.pythonhosted.org/packages/6e/43/73944aa5ad2b3185c0f0ba0ee6f73277f2eb51782ca6ccf3e6793caf209a/liac-arff-2.5.0.tar.gz\n",
            "Collecting ConfigSpace<0.5,>=0.4.14\n",
            "\u001b[?25l  Downloading https://files.pythonhosted.org/packages/a5/c3/3c21e8d82a639fd821f538e6d7f830b654a6ce1fe52644be1a67f323f707/ConfigSpace-0.4.18.tar.gz (950kB)\n",
            "\u001b[K     |████████████████████████████████| 952kB 35.7MB/s \n",
            "\u001b[?25h  Installing build dependencies ... \u001b[?25l\u001b[?25hdone\n",
            "  Getting requirements to build wheel ... \u001b[?25l\u001b[?25hdone\n",
            "    Preparing wheel metadata ... \u001b[?25l\u001b[?25hdone\n",
            "Collecting pynisher>=0.6.3\n",
            "  Downloading https://files.pythonhosted.org/packages/8d/39/edac9acf3bd245ecf475151014cce3652c25ca3c2352eac725502cfce6ea/pynisher-0.6.4.tar.gz\n",
            "Collecting pyrfr<0.9,>=0.7\n",
            "\u001b[?25l  Downloading https://files.pythonhosted.org/packages/82/61/d798e6a79711accf9b7bf61ed8653a85b3861d34d61c032411e9abc9d64d/pyrfr-0.8.1-cp37-cp37m-manylinux2014_x86_64.whl (4.0MB)\n",
            "\u001b[K     |████████████████████████████████| 4.0MB 33.5MB/s \n",
            "\u001b[?25hCollecting smac<0.14,>=0.13.1\n",
            "\u001b[?25l  Downloading https://files.pythonhosted.org/packages/ef/f2/8ea040eaa2253a3606472b08d9c2a23be1a177c0c19e236a2b3222c0fd78/smac-0.13.1.tar.gz (258kB)\n",
            "\u001b[K     |████████████████████████████████| 266kB 46.0MB/s \n",
            "\u001b[?25hCollecting threadpoolctl>=2.0.0\n",
            "  Downloading https://files.pythonhosted.org/packages/f7/12/ec3f2e203afa394a149911729357aa48affc59c20e2c1c8297a60f33f133/threadpoolctl-2.1.0-py3-none-any.whl\n",
            "Requirement already satisfied: toolz>=0.8.2 in /usr/local/lib/python3.7/dist-packages (from distributed>=2.2.0->auto-sklearn) (0.11.1)\n",
            "Requirement already satisfied: sortedcontainers!=2.0.0,!=2.0.1 in /usr/local/lib/python3.7/dist-packages (from distributed>=2.2.0->auto-sklearn) (2.3.0)\n",
            "Requirement already satisfied: tblib>=1.6.0 in /usr/local/lib/python3.7/dist-packages (from distributed>=2.2.0->auto-sklearn) (1.7.0)\n",
            "Requirement already satisfied: zict>=0.1.3 in /usr/local/lib/python3.7/dist-packages (from distributed>=2.2.0->auto-sklearn) (2.0.0)\n",
            "Requirement already satisfied: click>=6.6 in /usr/local/lib/python3.7/dist-packages (from distributed>=2.2.0->auto-sklearn) (7.1.2)\n",
            "Requirement already satisfied: tornado>=5; python_version < \"3.8\" in /usr/local/lib/python3.7/dist-packages (from distributed>=2.2.0->auto-sklearn) (5.1.1)\n",
            "Collecting cloudpickle>=1.5.0\n",
            "  Downloading https://files.pythonhosted.org/packages/e7/e3/898487e5dbeb612054cf2e0c188463acb358167fef749c53c8bb8918cea1/cloudpickle-1.6.0-py3-none-any.whl\n",
            "Requirement already satisfied: msgpack>=0.6.0 in /usr/local/lib/python3.7/dist-packages (from distributed>=2.2.0->auto-sklearn) (1.0.2)\n",
            "Requirement already satisfied: psutil>=5.0 in /usr/local/lib/python3.7/dist-packages (from distributed>=2.2.0->auto-sklearn) (5.4.8)\n",
            "Requirement already satisfied: pytz>=2017.2 in /usr/local/lib/python3.7/dist-packages (from pandas>=1.0->auto-sklearn) (2018.9)\n",
            "Requirement already satisfied: python-dateutil>=2.7.3 in /usr/local/lib/python3.7/dist-packages (from pandas>=1.0->auto-sklearn) (2.8.1)\n",
            "Requirement already satisfied: pyparsing in /usr/local/lib/python3.7/dist-packages (from ConfigSpace<0.5,>=0.4.14->auto-sklearn) (2.4.7)\n",
            "Requirement already satisfied: cython in /usr/local/lib/python3.7/dist-packages (from ConfigSpace<0.5,>=0.4.14->auto-sklearn) (0.29.22)\n",
            "Collecting lazy_import\n",
            "  Downloading https://files.pythonhosted.org/packages/44/2e/5378f9b9cbc893826c2ecb022646c97ece9efbaad351adf89425fff33990/lazy_import-0.2.2.tar.gz\n",
            "Requirement already satisfied: heapdict in /usr/local/lib/python3.7/dist-packages (from zict>=0.1.3->distributed>=2.2.0->auto-sklearn) (1.0.1)\n",
            "Requirement already satisfied: six>=1.5 in /usr/local/lib/python3.7/dist-packages (from python-dateutil>=2.7.3->pandas>=1.0->auto-sklearn) (1.15.0)\n",
            "Building wheels for collected packages: ConfigSpace\n",
            "  Building wheel for ConfigSpace (PEP 517) ... \u001b[?25l\u001b[?25hdone\n",
            "  Created wheel for ConfigSpace: filename=ConfigSpace-0.4.18-cp37-cp37m-linux_x86_64.whl size=2879795 sha256=752de2c9e1065438a3821d315c1a647b4a5e3a8234226211478369aa2205c214\n",
            "  Stored in directory: /root/.cache/pip/wheels/39/ea/40/d93931850f700427db0a84180829c709d30484c9475040c7bd\n",
            "Successfully built ConfigSpace\n",
            "Building wheels for collected packages: auto-sklearn, liac-arff, pynisher, smac, lazy-import\n",
            "  Building wheel for auto-sklearn (setup.py) ... \u001b[?25l\u001b[?25hdone\n",
            "  Created wheel for auto-sklearn: filename=auto_sklearn-0.12.3-cp37-none-any.whl size=6366553 sha256=f90696acd121e0c68b87f9e5fa12c291d4d9b02f0596ddc8510a80e931d55261\n",
            "  Stored in directory: /root/.cache/pip/wheels/4d/ad/ed/04937b4dc3bb2cfeb4532cd4b3719985409a631489c691827a\n",
            "  Building wheel for liac-arff (setup.py) ... \u001b[?25l\u001b[?25hdone\n",
            "  Created wheel for liac-arff: filename=liac_arff-2.5.0-cp37-none-any.whl size=11732 sha256=a04a677d347cae7d505fc54b4f7c053cb35b2bd964ed121af7308cd32c0c4522\n",
            "  Stored in directory: /root/.cache/pip/wheels/77/8d/b4/8bfce5beea9a3496cc15b24961876adb7b6e2912ff09164179\n",
            "  Building wheel for pynisher (setup.py) ... \u001b[?25l\u001b[?25hdone\n",
            "  Created wheel for pynisher: filename=pynisher-0.6.4-cp37-none-any.whl size=7045 sha256=5f7217d1c0af3037fd18e08f87601fc48c57cc207bdd5df9a972de90593e6984\n",
            "  Stored in directory: /root/.cache/pip/wheels/70/07/6b/c0e6d547d91cd50a30207421c3c3a63d71f195255c66401209\n",
            "  Building wheel for smac (setup.py) ... \u001b[?25l\u001b[?25hdone\n",
            "  Created wheel for smac: filename=smac-0.13.1-cp37-none-any.whl size=252183 sha256=72d1400dfbab61a03681985ecf97c0b1ad1189bb05438aa38d34cb02107df938\n",
            "  Stored in directory: /root/.cache/pip/wheels/29/a6/af/9ec3c1ff517759ad1aad6babcbcf047dd5078c8b08fa4e63cc\n",
            "  Building wheel for lazy-import (setup.py) ... \u001b[?25l\u001b[?25hdone\n",
            "  Created wheel for lazy-import: filename=lazy_import-0.2.2-py2.py3-none-any.whl size=16486 sha256=7723062fc186596698de66560054b4d9083b0b745727f8f5c003dda121def1a6\n",
            "  Stored in directory: /root/.cache/pip/wheels/a9/b0/b5/8c7e6810aee14bc4ed4a542ce56e744126263bf4f4825a9094\n",
            "Successfully built auto-sklearn liac-arff pynisher smac lazy-import\n",
            "\u001b[31mERROR: distributed 2021.3.0 has requirement dask>=2021.03.0, but you'll have dask 2.12.0 which is incompatible.\u001b[0m\n",
            "Installing collected packages: threadpoolctl, scikit-learn, cloudpickle, distributed, liac-arff, ConfigSpace, pynisher, pyrfr, lazy-import, smac, auto-sklearn\n",
            "  Found existing installation: scikit-learn 0.22.2.post1\n",
            "    Uninstalling scikit-learn-0.22.2.post1:\n",
            "      Successfully uninstalled scikit-learn-0.22.2.post1\n",
            "  Found existing installation: cloudpickle 1.3.0\n",
            "    Uninstalling cloudpickle-1.3.0:\n",
            "      Successfully uninstalled cloudpickle-1.3.0\n",
            "  Found existing installation: distributed 1.25.3\n",
            "    Uninstalling distributed-1.25.3:\n",
            "      Successfully uninstalled distributed-1.25.3\n",
            "Successfully installed ConfigSpace-0.4.18 auto-sklearn-0.12.3 cloudpickle-1.6.0 distributed-2021.3.0 lazy-import-0.2.2 liac-arff-2.5.0 pynisher-0.6.4 pyrfr-0.8.1 scikit-learn-0.24.1 smac-0.13.1 threadpoolctl-2.1.0\n"
          ],
          "name": "stdout"
        }
      ]
    },
    {
      "cell_type": "code",
      "metadata": {
        "colab": {
          "base_uri": "https://localhost:8080/"
        },
        "id": "Iv3rNvMaw84L",
        "outputId": "9589262b-c1e4-4f22-8311-48e826c9c07b"
      },
      "source": [
        "import sklearn\r\n",
        "import autosklearn.classification as classifier\r\n",
        "from sklearn.model_selection import train_test_split"
      ],
      "execution_count": 1,
      "outputs": [
        {
          "output_type": "stream",
          "text": [
            "/usr/local/lib/python3.7/dist-packages/pyparsing.py:3190: FutureWarning: Possible set intersection at position 3\n",
            "  self.re = re.compile(self.reString)\n"
          ],
          "name": "stderr"
        }
      ]
    },
    {
      "cell_type": "code",
      "metadata": {
        "colab": {
          "base_uri": "https://localhost:8080/",
          "height": 760
        },
        "id": "J5xlxDzXx4Fw",
        "outputId": "cbcd28a2-69af-4ed4-db61-785a6471269b"
      },
      "source": [
        "!pip install dask[complete] distributed --upgrade"
      ],
      "execution_count": 4,
      "outputs": [
        {
          "output_type": "stream",
          "text": [
            "Collecting dask[complete]\n",
            "\u001b[?25l  Downloading https://files.pythonhosted.org/packages/2e/86/95faa4a9c1f7fbfa2df2ae9e7e1a11349cb97a81e2f38ff9dda301606882/dask-2021.3.0-py3-none-any.whl (925kB)\n",
            "\r\u001b[K     |▍                               | 10kB 14.3MB/s eta 0:00:01\r\u001b[K     |▊                               | 20kB 12.1MB/s eta 0:00:01\r\u001b[K     |█                               | 30kB 12.1MB/s eta 0:00:01\r\u001b[K     |█▍                              | 40kB 8.2MB/s eta 0:00:01\r\u001b[K     |█▊                              | 51kB 4.6MB/s eta 0:00:01\r\u001b[K     |██▏                             | 61kB 5.0MB/s eta 0:00:01\r\u001b[K     |██▌                             | 71kB 5.2MB/s eta 0:00:01\r\u001b[K     |██▉                             | 81kB 5.2MB/s eta 0:00:01\r\u001b[K     |███▏                            | 92kB 5.1MB/s eta 0:00:01\r\u001b[K     |███▌                            | 102kB 5.5MB/s eta 0:00:01\r\u001b[K     |████                            | 112kB 5.5MB/s eta 0:00:01\r\u001b[K     |████▎                           | 122kB 5.5MB/s eta 0:00:01\r\u001b[K     |████▋                           | 133kB 5.5MB/s eta 0:00:01\r\u001b[K     |█████                           | 143kB 5.5MB/s eta 0:00:01\r\u001b[K     |█████▎                          | 153kB 5.5MB/s eta 0:00:01\r\u001b[K     |█████▋                          | 163kB 5.5MB/s eta 0:00:01\r\u001b[K     |██████                          | 174kB 5.5MB/s eta 0:00:01\r\u001b[K     |██████▍                         | 184kB 5.5MB/s eta 0:00:01\r\u001b[K     |██████▊                         | 194kB 5.5MB/s eta 0:00:01\r\u001b[K     |███████                         | 204kB 5.5MB/s eta 0:00:01\r\u001b[K     |███████▍                        | 215kB 5.5MB/s eta 0:00:01\r\u001b[K     |███████▉                        | 225kB 5.5MB/s eta 0:00:01\r\u001b[K     |████████▏                       | 235kB 5.5MB/s eta 0:00:01\r\u001b[K     |████████▌                       | 245kB 5.5MB/s eta 0:00:01\r\u001b[K     |████████▉                       | 256kB 5.5MB/s eta 0:00:01\r\u001b[K     |█████████▏                      | 266kB 5.5MB/s eta 0:00:01\r\u001b[K     |█████████▋                      | 276kB 5.5MB/s eta 0:00:01\r\u001b[K     |██████████                      | 286kB 5.5MB/s eta 0:00:01\r\u001b[K     |██████████▎                     | 296kB 5.5MB/s eta 0:00:01\r\u001b[K     |██████████▋                     | 307kB 5.5MB/s eta 0:00:01\r\u001b[K     |███████████                     | 317kB 5.5MB/s eta 0:00:01\r\u001b[K     |███████████▎                    | 327kB 5.5MB/s eta 0:00:01\r\u001b[K     |███████████▊                    | 337kB 5.5MB/s eta 0:00:01\r\u001b[K     |████████████                    | 348kB 5.5MB/s eta 0:00:01\r\u001b[K     |████████████▍                   | 358kB 5.5MB/s eta 0:00:01\r\u001b[K     |████████████▊                   | 368kB 5.5MB/s eta 0:00:01\r\u001b[K     |█████████████                   | 378kB 5.5MB/s eta 0:00:01\r\u001b[K     |█████████████▌                  | 389kB 5.5MB/s eta 0:00:01\r\u001b[K     |█████████████▉                  | 399kB 5.5MB/s eta 0:00:01\r\u001b[K     |██████████████▏                 | 409kB 5.5MB/s eta 0:00:01\r\u001b[K     |██████████████▌                 | 419kB 5.5MB/s eta 0:00:01\r\u001b[K     |██████████████▉                 | 430kB 5.5MB/s eta 0:00:01\r\u001b[K     |███████████████▏                | 440kB 5.5MB/s eta 0:00:01\r\u001b[K     |███████████████▋                | 450kB 5.5MB/s eta 0:00:01\r\u001b[K     |████████████████                | 460kB 5.5MB/s eta 0:00:01\r\u001b[K     |████████████████▎               | 471kB 5.5MB/s eta 0:00:01\r\u001b[K     |████████████████▋               | 481kB 5.5MB/s eta 0:00:01\r\u001b[K     |█████████████████               | 491kB 5.5MB/s eta 0:00:01\r\u001b[K     |█████████████████▍              | 501kB 5.5MB/s eta 0:00:01\r\u001b[K     |█████████████████▊              | 512kB 5.5MB/s eta 0:00:01\r\u001b[K     |██████████████████              | 522kB 5.5MB/s eta 0:00:01\r\u001b[K     |██████████████████▍             | 532kB 5.5MB/s eta 0:00:01\r\u001b[K     |██████████████████▊             | 542kB 5.5MB/s eta 0:00:01\r\u001b[K     |███████████████████▏            | 552kB 5.5MB/s eta 0:00:01\r\u001b[K     |███████████████████▌            | 563kB 5.5MB/s eta 0:00:01\r\u001b[K     |███████████████████▉            | 573kB 5.5MB/s eta 0:00:01\r\u001b[K     |████████████████████▏           | 583kB 5.5MB/s eta 0:00:01\r\u001b[K     |████████████████████▌           | 593kB 5.5MB/s eta 0:00:01\r\u001b[K     |████████████████████▉           | 604kB 5.5MB/s eta 0:00:01\r\u001b[K     |█████████████████████▎          | 614kB 5.5MB/s eta 0:00:01\r\u001b[K     |█████████████████████▋          | 624kB 5.5MB/s eta 0:00:01\r\u001b[K     |██████████████████████          | 634kB 5.5MB/s eta 0:00:01\r\u001b[K     |██████████████████████▎         | 645kB 5.5MB/s eta 0:00:01\r\u001b[K     |██████████████████████▋         | 655kB 5.5MB/s eta 0:00:01\r\u001b[K     |███████████████████████         | 665kB 5.5MB/s eta 0:00:01\r\u001b[K     |███████████████████████▍        | 675kB 5.5MB/s eta 0:00:01\r\u001b[K     |███████████████████████▊        | 686kB 5.5MB/s eta 0:00:01\r\u001b[K     |████████████████████████        | 696kB 5.5MB/s eta 0:00:01\r\u001b[K     |████████████████████████▍       | 706kB 5.5MB/s eta 0:00:01\r\u001b[K     |████████████████████████▉       | 716kB 5.5MB/s eta 0:00:01\r\u001b[K     |█████████████████████████▏      | 727kB 5.5MB/s eta 0:00:01\r\u001b[K     |█████████████████████████▌      | 737kB 5.5MB/s eta 0:00:01\r\u001b[K     |█████████████████████████▉      | 747kB 5.5MB/s eta 0:00:01\r\u001b[K     |██████████████████████████▏     | 757kB 5.5MB/s eta 0:00:01\r\u001b[K     |██████████████████████████▌     | 768kB 5.5MB/s eta 0:00:01\r\u001b[K     |███████████████████████████     | 778kB 5.5MB/s eta 0:00:01\r\u001b[K     |███████████████████████████▎    | 788kB 5.5MB/s eta 0:00:01\r\u001b[K     |███████████████████████████▋    | 798kB 5.5MB/s eta 0:00:01\r\u001b[K     |████████████████████████████    | 808kB 5.5MB/s eta 0:00:01\r\u001b[K     |████████████████████████████▎   | 819kB 5.5MB/s eta 0:00:01\r\u001b[K     |████████████████████████████▊   | 829kB 5.5MB/s eta 0:00:01\r\u001b[K     |█████████████████████████████   | 839kB 5.5MB/s eta 0:00:01\r\u001b[K     |█████████████████████████████▍  | 849kB 5.5MB/s eta 0:00:01\r\u001b[K     |█████████████████████████████▊  | 860kB 5.5MB/s eta 0:00:01\r\u001b[K     |██████████████████████████████  | 870kB 5.5MB/s eta 0:00:01\r\u001b[K     |██████████████████████████████▍ | 880kB 5.5MB/s eta 0:00:01\r\u001b[K     |██████████████████████████████▉ | 890kB 5.5MB/s eta 0:00:01\r\u001b[K     |███████████████████████████████▏| 901kB 5.5MB/s eta 0:00:01\r\u001b[K     |███████████████████████████████▌| 911kB 5.5MB/s eta 0:00:01\r\u001b[K     |███████████████████████████████▉| 921kB 5.5MB/s eta 0:00:01\r\u001b[K     |████████████████████████████████| 931kB 5.5MB/s \n",
            "\u001b[?25hRequirement already up-to-date: distributed in /usr/local/lib/python3.7/dist-packages (2021.3.0)\n",
            "Requirement already satisfied, skipping upgrade: pyyaml in /usr/local/lib/python3.7/dist-packages (from dask[complete]) (3.13)\n",
            "Requirement already satisfied, skipping upgrade: toolz>=0.8.2; extra == \"complete\" in /usr/local/lib/python3.7/dist-packages (from dask[complete]) (0.11.1)\n",
            "Requirement already satisfied, skipping upgrade: pandas>=0.25.0; extra == \"complete\" in /usr/local/lib/python3.7/dist-packages (from dask[complete]) (1.1.5)\n",
            "Requirement already satisfied, skipping upgrade: fsspec>=0.6.0; extra == \"complete\" in /usr/local/lib/python3.7/dist-packages (from dask[complete]) (0.8.7)\n",
            "Requirement already satisfied, skipping upgrade: numpy>=1.15.1; extra == \"complete\" in /usr/local/lib/python3.7/dist-packages (from dask[complete]) (1.19.5)\n",
            "Requirement already satisfied, skipping upgrade: cloudpickle>=0.2.2; extra == \"complete\" in /usr/local/lib/python3.7/dist-packages (from dask[complete]) (1.6.0)\n",
            "Requirement already satisfied, skipping upgrade: partd>=0.3.10; extra == \"complete\" in /usr/local/lib/python3.7/dist-packages (from dask[complete]) (1.1.0)\n",
            "Requirement already satisfied, skipping upgrade: bokeh!=2.0.0,>=1.0.0; extra == \"complete\" in /usr/local/lib/python3.7/dist-packages (from dask[complete]) (2.1.1)\n",
            "Requirement already satisfied, skipping upgrade: zict>=0.1.3 in /usr/local/lib/python3.7/dist-packages (from distributed) (2.0.0)\n",
            "Requirement already satisfied, skipping upgrade: psutil>=5.0 in /usr/local/lib/python3.7/dist-packages (from distributed) (5.4.8)\n",
            "Requirement already satisfied, skipping upgrade: click>=6.6 in /usr/local/lib/python3.7/dist-packages (from distributed) (7.1.2)\n",
            "Requirement already satisfied, skipping upgrade: msgpack>=0.6.0 in /usr/local/lib/python3.7/dist-packages (from distributed) (1.0.2)\n",
            "Requirement already satisfied, skipping upgrade: sortedcontainers!=2.0.0,!=2.0.1 in /usr/local/lib/python3.7/dist-packages (from distributed) (2.3.0)\n",
            "Requirement already satisfied, skipping upgrade: tornado>=5; python_version < \"3.8\" in /usr/local/lib/python3.7/dist-packages (from distributed) (5.1.1)\n",
            "Requirement already satisfied, skipping upgrade: tblib>=1.6.0 in /usr/local/lib/python3.7/dist-packages (from distributed) (1.7.0)\n",
            "Requirement already satisfied, skipping upgrade: setuptools in /usr/local/lib/python3.7/dist-packages (from distributed) (54.0.0)\n",
            "Requirement already satisfied, skipping upgrade: python-dateutil>=2.7.3 in /usr/local/lib/python3.7/dist-packages (from pandas>=0.25.0; extra == \"complete\"->dask[complete]) (2.8.1)\n",
            "Requirement already satisfied, skipping upgrade: pytz>=2017.2 in /usr/local/lib/python3.7/dist-packages (from pandas>=0.25.0; extra == \"complete\"->dask[complete]) (2018.9)\n",
            "Requirement already satisfied, skipping upgrade: importlib-metadata; python_version < \"3.8\" in /usr/local/lib/python3.7/dist-packages (from fsspec>=0.6.0; extra == \"complete\"->dask[complete]) (3.7.2)\n",
            "Requirement already satisfied, skipping upgrade: locket in /usr/local/lib/python3.7/dist-packages (from partd>=0.3.10; extra == \"complete\"->dask[complete]) (0.2.1)\n",
            "Requirement already satisfied, skipping upgrade: pillow>=4.0 in /usr/local/lib/python3.7/dist-packages (from bokeh!=2.0.0,>=1.0.0; extra == \"complete\"->dask[complete]) (7.0.0)\n",
            "Requirement already satisfied, skipping upgrade: Jinja2>=2.7 in /usr/local/lib/python3.7/dist-packages (from bokeh!=2.0.0,>=1.0.0; extra == \"complete\"->dask[complete]) (2.11.3)\n",
            "Requirement already satisfied, skipping upgrade: packaging>=16.8 in /usr/local/lib/python3.7/dist-packages (from bokeh!=2.0.0,>=1.0.0; extra == \"complete\"->dask[complete]) (20.9)\n",
            "Requirement already satisfied, skipping upgrade: typing-extensions>=3.7.4 in /usr/local/lib/python3.7/dist-packages (from bokeh!=2.0.0,>=1.0.0; extra == \"complete\"->dask[complete]) (3.7.4.3)\n",
            "Requirement already satisfied, skipping upgrade: heapdict in /usr/local/lib/python3.7/dist-packages (from zict>=0.1.3->distributed) (1.0.1)\n",
            "Requirement already satisfied, skipping upgrade: six>=1.5 in /usr/local/lib/python3.7/dist-packages (from python-dateutil>=2.7.3->pandas>=0.25.0; extra == \"complete\"->dask[complete]) (1.15.0)\n",
            "Requirement already satisfied, skipping upgrade: zipp>=0.5 in /usr/local/lib/python3.7/dist-packages (from importlib-metadata; python_version < \"3.8\"->fsspec>=0.6.0; extra == \"complete\"->dask[complete]) (3.4.1)\n",
            "Requirement already satisfied, skipping upgrade: MarkupSafe>=0.23 in /usr/local/lib/python3.7/dist-packages (from Jinja2>=2.7->bokeh!=2.0.0,>=1.0.0; extra == \"complete\"->dask[complete]) (1.1.1)\n",
            "Requirement already satisfied, skipping upgrade: pyparsing>=2.0.2 in /usr/local/lib/python3.7/dist-packages (from packaging>=16.8->bokeh!=2.0.0,>=1.0.0; extra == \"complete\"->dask[complete]) (2.4.7)\n",
            "Installing collected packages: dask\n",
            "  Found existing installation: dask 2.12.0\n",
            "    Uninstalling dask-2.12.0:\n",
            "      Successfully uninstalled dask-2.12.0\n",
            "Successfully installed dask-2021.3.0\n"
          ],
          "name": "stdout"
        },
        {
          "output_type": "display_data",
          "data": {
            "application/vnd.colab-display-data+json": {
              "pip_warning": {
                "packages": [
                  "dask"
                ]
              }
            }
          },
          "metadata": {
            "tags": []
          }
        }
      ]
    },
    {
      "cell_type": "code",
      "metadata": {
        "id": "roQhQlhQy1Wh"
      },
      "source": [
        "from sklearn import datasets\r\n",
        "X,y = datasets.load_iris(return_X_y = True)\r\n",
        "\r\n",
        "X_train,X_test,y_train,y_test = train_test_split(X,y,random_state = 0)"
      ],
      "execution_count": 8,
      "outputs": []
    },
    {
      "cell_type": "code",
      "metadata": {
        "colab": {
          "base_uri": "https://localhost:8080/"
        },
        "id": "_gGfiyn60jOl",
        "outputId": "53bab2e2-1c45-4567-d8ce-336a7dc4246a"
      },
      "source": [
        "automlclassifier = classifier.AutoSklearnClassifier(time_left_for_this_task=180,per_run_time_limit=40)\r\n",
        "automlclassifier.fit(X_train,y_train)"
      ],
      "execution_count": 9,
      "outputs": [
        {
          "output_type": "stream",
          "text": [
            "[WARNING] [2021-03-16 07:03:23,437:smac.runhistory.runhistory2epm.RunHistory2EPM4LogCost] Got cost of smaller/equal to 0. Replace by 0.000010 since we use log cost.\n",
            "[WARNING] [2021-03-16 07:03:30,671:smac.runhistory.runhistory2epm.RunHistory2EPM4LogCost] Got cost of smaller/equal to 0. Replace by 0.000010 since we use log cost.\n",
            "[WARNING] [2021-03-16 07:03:37,357:smac.runhistory.runhistory2epm.RunHistory2EPM4LogCost] Got cost of smaller/equal to 0. Replace by 0.000010 since we use log cost.\n",
            "[WARNING] [2021-03-16 07:03:44,109:smac.runhistory.runhistory2epm.RunHistory2EPM4LogCost] Got cost of smaller/equal to 0. Replace by 0.000010 since we use log cost.\n",
            "[WARNING] [2021-03-16 07:03:45,622:smac.runhistory.runhistory2epm.RunHistory2EPM4LogCost] Got cost of smaller/equal to 0. Replace by 0.000010 since we use log cost.\n",
            "[WARNING] [2021-03-16 07:03:46,894:smac.runhistory.runhistory2epm.RunHistory2EPM4LogCost] Got cost of smaller/equal to 0. Replace by 0.000010 since we use log cost.\n",
            "[WARNING] [2021-03-16 07:03:54,443:smac.runhistory.runhistory2epm.RunHistory2EPM4LogCost] Got cost of smaller/equal to 0. Replace by 0.000010 since we use log cost.\n",
            "[WARNING] [2021-03-16 07:04:00,761:smac.runhistory.runhistory2epm.RunHistory2EPM4LogCost] Got cost of smaller/equal to 0. Replace by 0.000010 since we use log cost.\n",
            "[WARNING] [2021-03-16 07:04:02,812:smac.runhistory.runhistory2epm.RunHistory2EPM4LogCost] Got cost of smaller/equal to 0. Replace by 0.000010 since we use log cost.\n",
            "[WARNING] [2021-03-16 07:04:10,249:smac.runhistory.runhistory2epm.RunHistory2EPM4LogCost] Got cost of smaller/equal to 0. Replace by 0.000010 since we use log cost.\n",
            "[WARNING] [2021-03-16 07:04:11,565:smac.runhistory.runhistory2epm.RunHistory2EPM4LogCost] Got cost of smaller/equal to 0. Replace by 0.000010 since we use log cost.\n",
            "[WARNING] [2021-03-16 07:04:13,022:smac.runhistory.runhistory2epm.RunHistory2EPM4LogCost] Got cost of smaller/equal to 0. Replace by 0.000010 since we use log cost.\n",
            "[WARNING] [2021-03-16 07:04:20,551:smac.runhistory.runhistory2epm.RunHistory2EPM4LogCost] Got cost of smaller/equal to 0. Replace by 0.000010 since we use log cost.\n",
            "[WARNING] [2021-03-16 07:04:28,079:smac.runhistory.runhistory2epm.RunHistory2EPM4LogCost] Got cost of smaller/equal to 0. Replace by 0.000010 since we use log cost.\n",
            "[WARNING] [2021-03-16 07:04:34,826:smac.runhistory.runhistory2epm.RunHistory2EPM4LogCost] Got cost of smaller/equal to 0. Replace by 0.000010 since we use log cost.\n",
            "[WARNING] [2021-03-16 07:04:42,033:smac.runhistory.runhistory2epm.RunHistory2EPM4LogCost] Got cost of smaller/equal to 0. Replace by 0.000010 since we use log cost.\n",
            "[WARNING] [2021-03-16 07:04:43,553:smac.runhistory.runhistory2epm.RunHistory2EPM4LogCost] Got cost of smaller/equal to 0. Replace by 0.000010 since we use log cost.\n",
            "[WARNING] [2021-03-16 07:04:45,959:smac.runhistory.runhistory2epm.RunHistory2EPM4LogCost] Got cost of smaller/equal to 0. Replace by 0.000010 since we use log cost.\n",
            "[WARNING] [2021-03-16 07:04:53,402:smac.runhistory.runhistory2epm.RunHistory2EPM4LogCost] Got cost of smaller/equal to 0. Replace by 0.000010 since we use log cost.\n",
            "[WARNING] [2021-03-16 07:04:54,865:smac.runhistory.runhistory2epm.RunHistory2EPM4LogCost] Got cost of smaller/equal to 0. Replace by 0.000010 since we use log cost.\n",
            "[WARNING] [2021-03-16 07:05:02,448:smac.runhistory.runhistory2epm.RunHistory2EPM4LogCost] Got cost of smaller/equal to 0. Replace by 0.000010 since we use log cost.\n",
            "[WARNING] [2021-03-16 07:05:10,386:smac.runhistory.runhistory2epm.RunHistory2EPM4LogCost] Got cost of smaller/equal to 0. Replace by 0.000010 since we use log cost.\n",
            "[WARNING] [2021-03-16 07:05:11,510:smac.runhistory.runhistory2epm.RunHistory2EPM4LogCost] Got cost of smaller/equal to 0. Replace by 0.000010 since we use log cost.\n",
            "[WARNING] [2021-03-16 07:05:13,142:smac.runhistory.runhistory2epm.RunHistory2EPM4LogCost] Got cost of smaller/equal to 0. Replace by 0.000010 since we use log cost.\n",
            "[WARNING] [2021-03-16 07:05:21,033:smac.runhistory.runhistory2epm.RunHistory2EPM4LogCost] Got cost of smaller/equal to 0. Replace by 0.000010 since we use log cost.\n",
            "[WARNING] [2021-03-16 07:05:22,702:smac.runhistory.runhistory2epm.RunHistory2EPM4LogCost] Got cost of smaller/equal to 0. Replace by 0.000010 since we use log cost.\n"
          ],
          "name": "stdout"
        },
        {
          "output_type": "execute_result",
          "data": {
            "text/plain": [
              "AutoSklearnClassifier(per_run_time_limit=40, time_left_for_this_task=180)"
            ]
          },
          "metadata": {
            "tags": []
          },
          "execution_count": 9
        }
      ]
    },
    {
      "cell_type": "code",
      "metadata": {
        "id": "5yQm7T4k0wUN"
      },
      "source": [
        "from sklearn.metrics import accuracy_score\r\n",
        "y_pred = automlclassifier.predict(X_test)"
      ],
      "execution_count": 10,
      "outputs": []
    },
    {
      "cell_type": "code",
      "metadata": {
        "colab": {
          "base_uri": "https://localhost:8080/"
        },
        "id": "Euegrvwv26W0",
        "outputId": "1367480f-e9f3-4400-a9ad-e3a1849023d8"
      },
      "source": [
        "score = accuracy_score(y_test,y_pred)\r\n",
        "print(score)"
      ],
      "execution_count": 11,
      "outputs": [
        {
          "output_type": "stream",
          "text": [
            "0.9473684210526315\n"
          ],
          "name": "stdout"
        }
      ]
    },
    {
      "cell_type": "code",
      "metadata": {
        "colab": {
          "base_uri": "https://localhost:8080/",
          "height": 1000
        },
        "id": "GE8StKOU3A0F",
        "outputId": "5c0be379-712a-44bb-a5a2-207dc99f597f"
      },
      "source": [
        "automlclassifier.show_models()"
      ],
      "execution_count": 12,
      "outputs": [
        {
          "output_type": "execute_result",
          "data": {
            "application/vnd.google.colaboratory.intrinsic+json": {
              "type": "string"
            },
            "text/plain": [
              "\"[(0.060000, SimpleClassificationPipeline({'balancing:strategy': 'weighting', 'classifier:__choice__': 'gradient_boosting', 'data_preprocessing:categorical_transformer:categorical_encoding:__choice__': 'no_encoding', 'data_preprocessing:categorical_transformer:category_coalescence:__choice__': 'no_coalescense', 'data_preprocessing:numerical_transformer:imputation:strategy': 'mean', 'data_preprocessing:numerical_transformer:rescaling:__choice__': 'robust_scaler', 'feature_preprocessor:__choice__': 'feature_agglomeration', 'classifier:gradient_boosting:early_stop': 'off', 'classifier:gradient_boosting:l2_regularization': 4.86248954040124e-10, 'classifier:gradient_boosting:learning_rate': 0.08250492256977829, 'classifier:gradient_boosting:loss': 'auto', 'classifier:gradient_boosting:max_bins': 255, 'classifier:gradient_boosting:max_depth': 'None', 'classifier:gradient_boosting:max_leaf_nodes': 36, 'classifier:gradient_boosting:min_samples_leaf': 20, 'classifier:gradient_boosting:scoring': 'loss', 'classifier:gradient_boosting:tol': 1e-07, 'data_preprocessing:numerical_transformer:rescaling:robust_scaler:q_max': 0.75, 'data_preprocessing:numerical_transformer:rescaling:robust_scaler:q_min': 0.25, 'feature_preprocessor:feature_agglomeration:affinity': 'euclidean', 'feature_preprocessor:feature_agglomeration:linkage': 'ward', 'feature_preprocessor:feature_agglomeration:n_clusters': 17, 'feature_preprocessor:feature_agglomeration:pooling_func': 'max'},\\ndataset_properties={\\n  'task': 2,\\n  'sparse': False,\\n  'multilabel': False,\\n  'multiclass': True,\\n  'target_type': 'classification',\\n  'signed': False})),\\n(0.060000, SimpleClassificationPipeline({'balancing:strategy': 'none', 'classifier:__choice__': 'gradient_boosting', 'data_preprocessing:categorical_transformer:categorical_encoding:__choice__': 'no_encoding', 'data_preprocessing:categorical_transformer:category_coalescence:__choice__': 'no_coalescense', 'data_preprocessing:numerical_transformer:imputation:strategy': 'most_frequent', 'data_preprocessing:numerical_transformer:rescaling:__choice__': 'robust_scaler', 'feature_preprocessor:__choice__': 'feature_agglomeration', 'classifier:gradient_boosting:early_stop': 'off', 'classifier:gradient_boosting:l2_regularization': 1.0647401999412075e-10, 'classifier:gradient_boosting:learning_rate': 0.06769666740165857, 'classifier:gradient_boosting:loss': 'auto', 'classifier:gradient_boosting:max_bins': 255, 'classifier:gradient_boosting:max_depth': 'None', 'classifier:gradient_boosting:max_leaf_nodes': 35, 'classifier:gradient_boosting:min_samples_leaf': 20, 'classifier:gradient_boosting:scoring': 'loss', 'classifier:gradient_boosting:tol': 1e-07, 'data_preprocessing:numerical_transformer:rescaling:robust_scaler:q_max': 0.7238889052636235, 'data_preprocessing:numerical_transformer:rescaling:robust_scaler:q_min': 0.26489510256965687, 'feature_preprocessor:feature_agglomeration:affinity': 'euclidean', 'feature_preprocessor:feature_agglomeration:linkage': 'ward', 'feature_preprocessor:feature_agglomeration:n_clusters': 25, 'feature_preprocessor:feature_agglomeration:pooling_func': 'max'},\\ndataset_properties={\\n  'task': 2,\\n  'sparse': False,\\n  'multilabel': False,\\n  'multiclass': True,\\n  'target_type': 'classification',\\n  'signed': False})),\\n(0.040000, SimpleClassificationPipeline({'balancing:strategy': 'none', 'classifier:__choice__': 'random_forest', 'data_preprocessing:categorical_transformer:categorical_encoding:__choice__': 'no_encoding', 'data_preprocessing:categorical_transformer:category_coalescence:__choice__': 'minority_coalescer', 'data_preprocessing:numerical_transformer:imputation:strategy': 'mean', 'data_preprocessing:numerical_transformer:rescaling:__choice__': 'robust_scaler', 'feature_preprocessor:__choice__': 'select_percentile_classification', 'classifier:random_forest:bootstrap': 'True', 'classifier:random_forest:criterion': 'gini', 'classifier:random_forest:max_depth': 'None', 'classifier:random_forest:max_features': 0.8434454038631288, 'classifier:random_forest:max_leaf_nodes': 'None', 'classifier:random_forest:min_impurity_decrease': 0.0, 'classifier:random_forest:min_samples_leaf': 15, 'classifier:random_forest:min_samples_split': 3, 'classifier:random_forest:min_weight_fraction_leaf': 0.0, 'data_preprocessing:categorical_transformer:category_coalescence:minority_coalescer:minimum_fraction': 0.046601157816891024, 'data_preprocessing:numerical_transformer:rescaling:robust_scaler:q_max': 0.7427921156203876, 'data_preprocessing:numerical_transformer:rescaling:robust_scaler:q_min': 0.01162242020087087, 'feature_preprocessor:select_percentile_classification:percentile': 81.33621889359004, 'feature_preprocessor:select_percentile_classification:score_func': 'f_classif'},\\ndataset_properties={\\n  'task': 2,\\n  'sparse': False,\\n  'multilabel': False,\\n  'multiclass': True,\\n  'target_type': 'classification',\\n  'signed': False})),\\n(0.040000, SimpleClassificationPipeline({'balancing:strategy': 'none', 'classifier:__choice__': 'gradient_boosting', 'data_preprocessing:categorical_transformer:categorical_encoding:__choice__': 'no_encoding', 'data_preprocessing:categorical_transformer:category_coalescence:__choice__': 'minority_coalescer', 'data_preprocessing:numerical_transformer:imputation:strategy': 'most_frequent', 'data_preprocessing:numerical_transformer:rescaling:__choice__': 'robust_scaler', 'feature_preprocessor:__choice__': 'no_preprocessing', 'classifier:gradient_boosting:early_stop': 'off', 'classifier:gradient_boosting:l2_regularization': 1e-10, 'classifier:gradient_boosting:learning_rate': 0.16262682406125173, 'classifier:gradient_boosting:loss': 'auto', 'classifier:gradient_boosting:max_bins': 255, 'classifier:gradient_boosting:max_depth': 'None', 'classifier:gradient_boosting:max_leaf_nodes': 66, 'classifier:gradient_boosting:min_samples_leaf': 20, 'classifier:gradient_boosting:scoring': 'loss', 'classifier:gradient_boosting:tol': 1e-07, 'data_preprocessing:categorical_transformer:category_coalescence:minority_coalescer:minimum_fraction': 0.005428587241449129, 'data_preprocessing:numerical_transformer:rescaling:robust_scaler:q_max': 0.75, 'data_preprocessing:numerical_transformer:rescaling:robust_scaler:q_min': 0.23746960178084334},\\ndataset_properties={\\n  'task': 2,\\n  'sparse': False,\\n  'multilabel': False,\\n  'multiclass': True,\\n  'target_type': 'classification',\\n  'signed': False})),\\n(0.040000, SimpleClassificationPipeline({'balancing:strategy': 'weighting', 'classifier:__choice__': 'mlp', 'data_preprocessing:categorical_transformer:categorical_encoding:__choice__': 'one_hot_encoding', 'data_preprocessing:categorical_transformer:category_coalescence:__choice__': 'minority_coalescer', 'data_preprocessing:numerical_transformer:imputation:strategy': 'median', 'data_preprocessing:numerical_transformer:rescaling:__choice__': 'none', 'feature_preprocessor:__choice__': 'feature_agglomeration', 'classifier:mlp:activation': 'relu', 'classifier:mlp:alpha': 0.0005005168300134541, 'classifier:mlp:batch_size': 'auto', 'classifier:mlp:beta_1': 0.9, 'classifier:mlp:beta_2': 0.999, 'classifier:mlp:early_stopping': 'train', 'classifier:mlp:epsilon': 1e-08, 'classifier:mlp:hidden_layer_depth': 2, 'classifier:mlp:learning_rate_init': 0.0012631168744483667, 'classifier:mlp:n_iter_no_change': 32, 'classifier:mlp:num_nodes_per_layer': 262, 'classifier:mlp:shuffle': 'True', 'classifier:mlp:solver': 'adam', 'classifier:mlp:tol': 0.0001, 'data_preprocessing:categorical_transformer:category_coalescence:minority_coalescer:minimum_fraction': 0.010159946014740783, 'feature_preprocessor:feature_agglomeration:affinity': 'euclidean', 'feature_preprocessor:feature_agglomeration:linkage': 'ward', 'feature_preprocessor:feature_agglomeration:n_clusters': 398, 'feature_preprocessor:feature_agglomeration:pooling_func': 'max'},\\ndataset_properties={\\n  'task': 2,\\n  'sparse': False,\\n  'multilabel': False,\\n  'multiclass': True,\\n  'target_type': 'classification',\\n  'signed': False})),\\n(0.040000, SimpleClassificationPipeline({'balancing:strategy': 'weighting', 'classifier:__choice__': 'gradient_boosting', 'data_preprocessing:categorical_transformer:categorical_encoding:__choice__': 'no_encoding', 'data_preprocessing:categorical_transformer:category_coalescence:__choice__': 'minority_coalescer', 'data_preprocessing:numerical_transformer:imputation:strategy': 'most_frequent', 'data_preprocessing:numerical_transformer:rescaling:__choice__': 'robust_scaler', 'feature_preprocessor:__choice__': 'feature_agglomeration', 'classifier:gradient_boosting:early_stop': 'off', 'classifier:gradient_boosting:l2_regularization': 1.0647401999412075e-10, 'classifier:gradient_boosting:learning_rate': 0.08291320147381159, 'classifier:gradient_boosting:loss': 'auto', 'classifier:gradient_boosting:max_bins': 255, 'classifier:gradient_boosting:max_depth': 'None', 'classifier:gradient_boosting:max_leaf_nodes': 62, 'classifier:gradient_boosting:min_samples_leaf': 20, 'classifier:gradient_boosting:scoring': 'loss', 'classifier:gradient_boosting:tol': 1e-07, 'data_preprocessing:categorical_transformer:category_coalescence:minority_coalescer:minimum_fraction': 0.01031192953489526, 'data_preprocessing:numerical_transformer:rescaling:robust_scaler:q_max': 0.7445787393541174, 'data_preprocessing:numerical_transformer:rescaling:robust_scaler:q_min': 0.2742881256464756, 'feature_preprocessor:feature_agglomeration:affinity': 'euclidean', 'feature_preprocessor:feature_agglomeration:linkage': 'ward', 'feature_preprocessor:feature_agglomeration:n_clusters': 25, 'feature_preprocessor:feature_agglomeration:pooling_func': 'median'},\\ndataset_properties={\\n  'task': 2,\\n  'sparse': False,\\n  'multilabel': False,\\n  'multiclass': True,\\n  'target_type': 'classification',\\n  'signed': False})),\\n(0.040000, SimpleClassificationPipeline({'balancing:strategy': 'none', 'classifier:__choice__': 'gradient_boosting', 'data_preprocessing:categorical_transformer:categorical_encoding:__choice__': 'no_encoding', 'data_preprocessing:categorical_transformer:category_coalescence:__choice__': 'minority_coalescer', 'data_preprocessing:numerical_transformer:imputation:strategy': 'most_frequent', 'data_preprocessing:numerical_transformer:rescaling:__choice__': 'robust_scaler', 'feature_preprocessor:__choice__': 'feature_agglomeration', 'classifier:gradient_boosting:early_stop': 'off', 'classifier:gradient_boosting:l2_regularization': 2.950464726415938e-10, 'classifier:gradient_boosting:learning_rate': 0.0939296675417096, 'classifier:gradient_boosting:loss': 'auto', 'classifier:gradient_boosting:max_bins': 255, 'classifier:gradient_boosting:max_depth': 'None', 'classifier:gradient_boosting:max_leaf_nodes': 31, 'classifier:gradient_boosting:min_samples_leaf': 22, 'classifier:gradient_boosting:scoring': 'loss', 'classifier:gradient_boosting:tol': 1e-07, 'data_preprocessing:categorical_transformer:category_coalescence:minority_coalescer:minimum_fraction': 0.06535597139723825, 'data_preprocessing:numerical_transformer:rescaling:robust_scaler:q_max': 0.7254841147490451, 'data_preprocessing:numerical_transformer:rescaling:robust_scaler:q_min': 0.22973785710264844, 'feature_preprocessor:feature_agglomeration:affinity': 'euclidean', 'feature_preprocessor:feature_agglomeration:linkage': 'ward', 'feature_preprocessor:feature_agglomeration:n_clusters': 25, 'feature_preprocessor:feature_agglomeration:pooling_func': 'median'},\\ndataset_properties={\\n  'task': 2,\\n  'sparse': False,\\n  'multilabel': False,\\n  'multiclass': True,\\n  'target_type': 'classification',\\n  'signed': False})),\\n(0.040000, SimpleClassificationPipeline({'balancing:strategy': 'weighting', 'classifier:__choice__': 'random_forest', 'data_preprocessing:categorical_transformer:categorical_encoding:__choice__': 'one_hot_encoding', 'data_preprocessing:categorical_transformer:category_coalescence:__choice__': 'no_coalescense', 'data_preprocessing:numerical_transformer:imputation:strategy': 'mean', 'data_preprocessing:numerical_transformer:rescaling:__choice__': 'standardize', 'feature_preprocessor:__choice__': 'liblinear_svc_preprocessor', 'classifier:random_forest:bootstrap': 'True', 'classifier:random_forest:criterion': 'gini', 'classifier:random_forest:max_depth': 'None', 'classifier:random_forest:max_features': 0.7258011125423461, 'classifier:random_forest:max_leaf_nodes': 'None', 'classifier:random_forest:min_impurity_decrease': 0.0, 'classifier:random_forest:min_samples_leaf': 1, 'classifier:random_forest:min_samples_split': 6, 'classifier:random_forest:min_weight_fraction_leaf': 0.0, 'feature_preprocessor:liblinear_svc_preprocessor:C': 2.0628492459123464, 'feature_preprocessor:liblinear_svc_preprocessor:dual': 'False', 'feature_preprocessor:liblinear_svc_preprocessor:fit_intercept': 'True', 'feature_preprocessor:liblinear_svc_preprocessor:intercept_scaling': 1, 'feature_preprocessor:liblinear_svc_preprocessor:loss': 'squared_hinge', 'feature_preprocessor:liblinear_svc_preprocessor:multi_class': 'ovr', 'feature_preprocessor:liblinear_svc_preprocessor:penalty': 'l1', 'feature_preprocessor:liblinear_svc_preprocessor:tol': 0.00025450378106637233},\\ndataset_properties={\\n  'task': 2,\\n  'sparse': False,\\n  'multilabel': False,\\n  'multiclass': True,\\n  'target_type': 'classification',\\n  'signed': False})),\\n(0.040000, SimpleClassificationPipeline({'balancing:strategy': 'weighting', 'classifier:__choice__': 'random_forest', 'data_preprocessing:categorical_transformer:categorical_encoding:__choice__': 'one_hot_encoding', 'data_preprocessing:categorical_transformer:category_coalescence:__choice__': 'minority_coalescer', 'data_preprocessing:numerical_transformer:imputation:strategy': 'median', 'data_preprocessing:numerical_transformer:rescaling:__choice__': 'minmax', 'feature_preprocessor:__choice__': 'extra_trees_preproc_for_classification', 'classifier:random_forest:bootstrap': 'True', 'classifier:random_forest:criterion': 'entropy', 'classifier:random_forest:max_depth': 'None', 'classifier:random_forest:max_features': 0.5805882119281688, 'classifier:random_forest:max_leaf_nodes': 'None', 'classifier:random_forest:min_impurity_decrease': 0.0, 'classifier:random_forest:min_samples_leaf': 1, 'classifier:random_forest:min_samples_split': 2, 'classifier:random_forest:min_weight_fraction_leaf': 0.0, 'data_preprocessing:categorical_transformer:category_coalescence:minority_coalescer:minimum_fraction': 0.11533421526707399, 'feature_preprocessor:extra_trees_preproc_for_classification:bootstrap': 'False', 'feature_preprocessor:extra_trees_preproc_for_classification:criterion': 'gini', 'feature_preprocessor:extra_trees_preproc_for_classification:max_depth': 'None', 'feature_preprocessor:extra_trees_preproc_for_classification:max_features': 0.8490063449951434, 'feature_preprocessor:extra_trees_preproc_for_classification:max_leaf_nodes': 'None', 'feature_preprocessor:extra_trees_preproc_for_classification:min_impurity_decrease': 0.0, 'feature_preprocessor:extra_trees_preproc_for_classification:min_samples_leaf': 9, 'feature_preprocessor:extra_trees_preproc_for_classification:min_samples_split': 2, 'feature_preprocessor:extra_trees_preproc_for_classification:min_weight_fraction_leaf': 0.0, 'feature_preprocessor:extra_trees_preproc_for_classification:n_estimators': 100},\\ndataset_properties={\\n  'task': 2,\\n  'sparse': False,\\n  'multilabel': False,\\n  'multiclass': True,\\n  'target_type': 'classification',\\n  'signed': False})),\\n(0.040000, SimpleClassificationPipeline({'balancing:strategy': 'weighting', 'classifier:__choice__': 'mlp', 'data_preprocessing:categorical_transformer:categorical_encoding:__choice__': 'no_encoding', 'data_preprocessing:categorical_transformer:category_coalescence:__choice__': 'no_coalescense', 'data_preprocessing:numerical_transformer:imputation:strategy': 'median', 'data_preprocessing:numerical_transformer:rescaling:__choice__': 'minmax', 'feature_preprocessor:__choice__': 'fast_ica', 'classifier:mlp:activation': 'relu', 'classifier:mlp:alpha': 0.02847755502162456, 'classifier:mlp:batch_size': 'auto', 'classifier:mlp:beta_1': 0.9, 'classifier:mlp:beta_2': 0.999, 'classifier:mlp:early_stopping': 'train', 'classifier:mlp:epsilon': 1e-08, 'classifier:mlp:hidden_layer_depth': 2, 'classifier:mlp:learning_rate_init': 0.000421568792103947, 'classifier:mlp:n_iter_no_change': 32, 'classifier:mlp:num_nodes_per_layer': 123, 'classifier:mlp:shuffle': 'True', 'classifier:mlp:solver': 'adam', 'classifier:mlp:tol': 0.0001, 'feature_preprocessor:fast_ica:algorithm': 'parallel', 'feature_preprocessor:fast_ica:fun': 'exp', 'feature_preprocessor:fast_ica:whiten': 'False'},\\ndataset_properties={\\n  'task': 2,\\n  'sparse': False,\\n  'multilabel': False,\\n  'multiclass': True,\\n  'target_type': 'classification',\\n  'signed': False})),\\n(0.040000, SimpleClassificationPipeline({'balancing:strategy': 'weighting', 'classifier:__choice__': 'gradient_boosting', 'data_preprocessing:categorical_transformer:categorical_encoding:__choice__': 'no_encoding', 'data_preprocessing:categorical_transformer:category_coalescence:__choice__': 'no_coalescense', 'data_preprocessing:numerical_transformer:imputation:strategy': 'most_frequent', 'data_preprocessing:numerical_transformer:rescaling:__choice__': 'quantile_transformer', 'feature_preprocessor:__choice__': 'feature_agglomeration', 'classifier:gradient_boosting:early_stop': 'off', 'classifier:gradient_boosting:l2_regularization': 4.821686883442146e-05, 'classifier:gradient_boosting:learning_rate': 0.10161621495242192, 'classifier:gradient_boosting:loss': 'auto', 'classifier:gradient_boosting:max_bins': 255, 'classifier:gradient_boosting:max_depth': 'None', 'classifier:gradient_boosting:max_leaf_nodes': 535, 'classifier:gradient_boosting:min_samples_leaf': 10, 'classifier:gradient_boosting:scoring': 'loss', 'classifier:gradient_boosting:tol': 1e-07, 'data_preprocessing:numerical_transformer:rescaling:quantile_transformer:n_quantiles': 1000, 'data_preprocessing:numerical_transformer:rescaling:quantile_transformer:output_distribution': 'uniform', 'feature_preprocessor:feature_agglomeration:affinity': 'manhattan', 'feature_preprocessor:feature_agglomeration:linkage': 'complete', 'feature_preprocessor:feature_agglomeration:n_clusters': 364, 'feature_preprocessor:feature_agglomeration:pooling_func': 'mean'},\\ndataset_properties={\\n  'task': 2,\\n  'sparse': False,\\n  'multilabel': False,\\n  'multiclass': True,\\n  'target_type': 'classification',\\n  'signed': False})),\\n(0.040000, SimpleClassificationPipeline({'balancing:strategy': 'weighting', 'classifier:__choice__': 'gradient_boosting', 'data_preprocessing:categorical_transformer:categorical_encoding:__choice__': 'no_encoding', 'data_preprocessing:categorical_transformer:category_coalescence:__choice__': 'minority_coalescer', 'data_preprocessing:numerical_transformer:imputation:strategy': 'median', 'data_preprocessing:numerical_transformer:rescaling:__choice__': 'minmax', 'feature_preprocessor:__choice__': 'feature_agglomeration', 'classifier:gradient_boosting:early_stop': 'train', 'classifier:gradient_boosting:l2_regularization': 0.0012219579403749416, 'classifier:gradient_boosting:learning_rate': 0.13511843898822876, 'classifier:gradient_boosting:loss': 'auto', 'classifier:gradient_boosting:max_bins': 255, 'classifier:gradient_boosting:max_depth': 'None', 'classifier:gradient_boosting:max_leaf_nodes': 66, 'classifier:gradient_boosting:min_samples_leaf': 13, 'classifier:gradient_boosting:scoring': 'loss', 'classifier:gradient_boosting:tol': 1e-07, 'data_preprocessing:categorical_transformer:category_coalescence:minority_coalescer:minimum_fraction': 0.009650092521155645, 'feature_preprocessor:feature_agglomeration:affinity': 'euclidean', 'feature_preprocessor:feature_agglomeration:linkage': 'ward', 'feature_preprocessor:feature_agglomeration:n_clusters': 28, 'feature_preprocessor:feature_agglomeration:pooling_func': 'mean', 'classifier:gradient_boosting:n_iter_no_change': 5},\\ndataset_properties={\\n  'task': 2,\\n  'sparse': False,\\n  'multilabel': False,\\n  'multiclass': True,\\n  'target_type': 'classification',\\n  'signed': False})),\\n(0.040000, SimpleClassificationPipeline({'balancing:strategy': 'none', 'classifier:__choice__': 'libsvm_svc', 'data_preprocessing:categorical_transformer:categorical_encoding:__choice__': 'no_encoding', 'data_preprocessing:categorical_transformer:category_coalescence:__choice__': 'no_coalescense', 'data_preprocessing:numerical_transformer:imputation:strategy': 'median', 'data_preprocessing:numerical_transformer:rescaling:__choice__': 'standardize', 'feature_preprocessor:__choice__': 'feature_agglomeration', 'classifier:libsvm_svc:C': 1198.7850746967626, 'classifier:libsvm_svc:gamma': 0.015219182148092949, 'classifier:libsvm_svc:kernel': 'rbf', 'classifier:libsvm_svc:max_iter': -1, 'classifier:libsvm_svc:shrinking': 'True', 'classifier:libsvm_svc:tol': 0.040610448809956276, 'feature_preprocessor:feature_agglomeration:affinity': 'cosine', 'feature_preprocessor:feature_agglomeration:linkage': 'average', 'feature_preprocessor:feature_agglomeration:n_clusters': 242, 'feature_preprocessor:feature_agglomeration:pooling_func': 'median'},\\ndataset_properties={\\n  'task': 2,\\n  'sparse': False,\\n  'multilabel': False,\\n  'multiclass': True,\\n  'target_type': 'classification',\\n  'signed': False})),\\n(0.040000, SimpleClassificationPipeline({'balancing:strategy': 'weighting', 'classifier:__choice__': 'gradient_boosting', 'data_preprocessing:categorical_transformer:categorical_encoding:__choice__': 'one_hot_encoding', 'data_preprocessing:categorical_transformer:category_coalescence:__choice__': 'minority_coalescer', 'data_preprocessing:numerical_transformer:imputation:strategy': 'most_frequent', 'data_preprocessing:numerical_transformer:rescaling:__choice__': 'robust_scaler', 'feature_preprocessor:__choice__': 'feature_agglomeration', 'classifier:gradient_boosting:early_stop': 'train', 'classifier:gradient_boosting:l2_regularization': 1.319588428827071e-10, 'classifier:gradient_boosting:learning_rate': 0.07386783454381368, 'classifier:gradient_boosting:loss': 'auto', 'classifier:gradient_boosting:max_bins': 255, 'classifier:gradient_boosting:max_depth': 'None', 'classifier:gradient_boosting:max_leaf_nodes': 33, 'classifier:gradient_boosting:min_samples_leaf': 15, 'classifier:gradient_boosting:scoring': 'loss', 'classifier:gradient_boosting:tol': 1e-07, 'data_preprocessing:categorical_transformer:category_coalescence:minority_coalescer:minimum_fraction': 0.008536581614170953, 'data_preprocessing:numerical_transformer:rescaling:robust_scaler:q_max': 0.7880146237024429, 'data_preprocessing:numerical_transformer:rescaling:robust_scaler:q_min': 0.25, 'feature_preprocessor:feature_agglomeration:affinity': 'euclidean', 'feature_preprocessor:feature_agglomeration:linkage': 'ward', 'feature_preprocessor:feature_agglomeration:n_clusters': 398, 'feature_preprocessor:feature_agglomeration:pooling_func': 'max', 'classifier:gradient_boosting:n_iter_no_change': 10},\\ndataset_properties={\\n  'task': 2,\\n  'sparse': False,\\n  'multilabel': False,\\n  'multiclass': True,\\n  'target_type': 'classification',\\n  'signed': False})),\\n(0.040000, SimpleClassificationPipeline({'balancing:strategy': 'weighting', 'classifier:__choice__': 'bernoulli_nb', 'data_preprocessing:categorical_transformer:categorical_encoding:__choice__': 'one_hot_encoding', 'data_preprocessing:categorical_transformer:category_coalescence:__choice__': 'minority_coalescer', 'data_preprocessing:numerical_transformer:imputation:strategy': 'most_frequent', 'data_preprocessing:numerical_transformer:rescaling:__choice__': 'robust_scaler', 'feature_preprocessor:__choice__': 'no_preprocessing', 'classifier:bernoulli_nb:alpha': 0.01203762723025764, 'classifier:bernoulli_nb:fit_prior': 'False', 'data_preprocessing:categorical_transformer:category_coalescence:minority_coalescer:minimum_fraction': 0.032707013539615325, 'data_preprocessing:numerical_transformer:rescaling:robust_scaler:q_max': 0.7454952060815284, 'data_preprocessing:numerical_transformer:rescaling:robust_scaler:q_min': 0.27886193786235863},\\ndataset_properties={\\n  'task': 2,\\n  'sparse': False,\\n  'multilabel': False,\\n  'multiclass': True,\\n  'target_type': 'classification',\\n  'signed': False})),\\n(0.020000, SimpleClassificationPipeline({'balancing:strategy': 'weighting', 'classifier:__choice__': 'gradient_boosting', 'data_preprocessing:categorical_transformer:categorical_encoding:__choice__': 'no_encoding', 'data_preprocessing:categorical_transformer:category_coalescence:__choice__': 'minority_coalescer', 'data_preprocessing:numerical_transformer:imputation:strategy': 'most_frequent', 'data_preprocessing:numerical_transformer:rescaling:__choice__': 'robust_scaler', 'feature_preprocessor:__choice__': 'feature_agglomeration', 'classifier:gradient_boosting:early_stop': 'off', 'classifier:gradient_boosting:l2_regularization': 1.319588428827071e-10, 'classifier:gradient_boosting:learning_rate': 0.05738883111088941, 'classifier:gradient_boosting:loss': 'auto', 'classifier:gradient_boosting:max_bins': 255, 'classifier:gradient_boosting:max_depth': 'None', 'classifier:gradient_boosting:max_leaf_nodes': 35, 'classifier:gradient_boosting:min_samples_leaf': 20, 'classifier:gradient_boosting:scoring': 'loss', 'classifier:gradient_boosting:tol': 1e-07, 'data_preprocessing:categorical_transformer:category_coalescence:minority_coalescer:minimum_fraction': 0.010159946014740783, 'data_preprocessing:numerical_transformer:rescaling:robust_scaler:q_max': 0.75, 'data_preprocessing:numerical_transformer:rescaling:robust_scaler:q_min': 0.2228618266971619, 'feature_preprocessor:feature_agglomeration:affinity': 'euclidean', 'feature_preprocessor:feature_agglomeration:linkage': 'ward', 'feature_preprocessor:feature_agglomeration:n_clusters': 398, 'feature_preprocessor:feature_agglomeration:pooling_func': 'median'},\\ndataset_properties={\\n  'task': 2,\\n  'sparse': False,\\n  'multilabel': False,\\n  'multiclass': True,\\n  'target_type': 'classification',\\n  'signed': False})),\\n(0.020000, SimpleClassificationPipeline({'balancing:strategy': 'none', 'classifier:__choice__': 'random_forest', 'data_preprocessing:categorical_transformer:categorical_encoding:__choice__': 'one_hot_encoding', 'data_preprocessing:categorical_transformer:category_coalescence:__choice__': 'minority_coalescer', 'data_preprocessing:numerical_transformer:imputation:strategy': 'mean', 'data_preprocessing:numerical_transformer:rescaling:__choice__': 'standardize', 'feature_preprocessor:__choice__': 'no_preprocessing', 'classifier:random_forest:bootstrap': 'True', 'classifier:random_forest:criterion': 'gini', 'classifier:random_forest:max_depth': 'None', 'classifier:random_forest:max_features': 0.5, 'classifier:random_forest:max_leaf_nodes': 'None', 'classifier:random_forest:min_impurity_decrease': 0.0, 'classifier:random_forest:min_samples_leaf': 1, 'classifier:random_forest:min_samples_split': 2, 'classifier:random_forest:min_weight_fraction_leaf': 0.0, 'data_preprocessing:categorical_transformer:category_coalescence:minority_coalescer:minimum_fraction': 0.01},\\ndataset_properties={\\n  'task': 2,\\n  'sparse': False,\\n  'multilabel': False,\\n  'multiclass': True,\\n  'target_type': 'classification',\\n  'signed': False})),\\n(0.020000, SimpleClassificationPipeline({'balancing:strategy': 'weighting', 'classifier:__choice__': 'decision_tree', 'data_preprocessing:categorical_transformer:categorical_encoding:__choice__': 'one_hot_encoding', 'data_preprocessing:categorical_transformer:category_coalescence:__choice__': 'no_coalescense', 'data_preprocessing:numerical_transformer:imputation:strategy': 'mean', 'data_preprocessing:numerical_transformer:rescaling:__choice__': 'normalize', 'feature_preprocessor:__choice__': 'no_preprocessing', 'classifier:decision_tree:criterion': 'gini', 'classifier:decision_tree:max_depth_factor': 1.6785057002915527, 'classifier:decision_tree:max_features': 1.0, 'classifier:decision_tree:max_leaf_nodes': 'None', 'classifier:decision_tree:min_impurity_decrease': 0.0, 'classifier:decision_tree:min_samples_leaf': 4, 'classifier:decision_tree:min_samples_split': 20, 'classifier:decision_tree:min_weight_fraction_leaf': 0.0},\\ndataset_properties={\\n  'task': 2,\\n  'sparse': False,\\n  'multilabel': False,\\n  'multiclass': True,\\n  'target_type': 'classification',\\n  'signed': False})),\\n(0.020000, SimpleClassificationPipeline({'balancing:strategy': 'none', 'classifier:__choice__': 'random_forest', 'data_preprocessing:categorical_transformer:categorical_encoding:__choice__': 'one_hot_encoding', 'data_preprocessing:categorical_transformer:category_coalescence:__choice__': 'minority_coalescer', 'data_preprocessing:numerical_transformer:imputation:strategy': 'most_frequent', 'data_preprocessing:numerical_transformer:rescaling:__choice__': 'standardize', 'feature_preprocessor:__choice__': 'no_preprocessing', 'classifier:random_forest:bootstrap': 'True', 'classifier:random_forest:criterion': 'entropy', 'classifier:random_forest:max_depth': 'None', 'classifier:random_forest:max_features': 0.926283631486858, 'classifier:random_forest:max_leaf_nodes': 'None', 'classifier:random_forest:min_impurity_decrease': 0.0, 'classifier:random_forest:min_samples_leaf': 7, 'classifier:random_forest:min_samples_split': 2, 'classifier:random_forest:min_weight_fraction_leaf': 0.0, 'data_preprocessing:categorical_transformer:category_coalescence:minority_coalescer:minimum_fraction': 0.16265262021972576},\\ndataset_properties={\\n  'task': 2,\\n  'sparse': False,\\n  'multilabel': False,\\n  'multiclass': True,\\n  'target_type': 'classification',\\n  'signed': False})),\\n(0.020000, SimpleClassificationPipeline({'balancing:strategy': 'none', 'classifier:__choice__': 'random_forest', 'data_preprocessing:categorical_transformer:categorical_encoding:__choice__': 'one_hot_encoding', 'data_preprocessing:categorical_transformer:category_coalescence:__choice__': 'minority_coalescer', 'data_preprocessing:numerical_transformer:imputation:strategy': 'most_frequent', 'data_preprocessing:numerical_transformer:rescaling:__choice__': 'quantile_transformer', 'feature_preprocessor:__choice__': 'polynomial', 'classifier:random_forest:bootstrap': 'True', 'classifier:random_forest:criterion': 'entropy', 'classifier:random_forest:max_depth': 'None', 'classifier:random_forest:max_features': 0.9361600425014094, 'classifier:random_forest:max_leaf_nodes': 'None', 'classifier:random_forest:min_impurity_decrease': 0.0, 'classifier:random_forest:min_samples_leaf': 3, 'classifier:random_forest:min_samples_split': 12, 'classifier:random_forest:min_weight_fraction_leaf': 0.0, 'data_preprocessing:categorical_transformer:category_coalescence:minority_coalescer:minimum_fraction': 0.1441431189324576, 'data_preprocessing:numerical_transformer:rescaling:quantile_transformer:n_quantiles': 1573, 'data_preprocessing:numerical_transformer:rescaling:quantile_transformer:output_distribution': 'normal', 'feature_preprocessor:polynomial:degree': 2, 'feature_preprocessor:polynomial:include_bias': 'True', 'feature_preprocessor:polynomial:interaction_only': 'True'},\\ndataset_properties={\\n  'task': 2,\\n  'sparse': False,\\n  'multilabel': False,\\n  'multiclass': True,\\n  'target_type': 'classification',\\n  'signed': False})),\\n(0.020000, SimpleClassificationPipeline({'balancing:strategy': 'weighting', 'classifier:__choice__': 'gradient_boosting', 'data_preprocessing:categorical_transformer:categorical_encoding:__choice__': 'one_hot_encoding', 'data_preprocessing:categorical_transformer:category_coalescence:__choice__': 'minority_coalescer', 'data_preprocessing:numerical_transformer:imputation:strategy': 'mean', 'data_preprocessing:numerical_transformer:rescaling:__choice__': 'robust_scaler', 'feature_preprocessor:__choice__': 'select_percentile_classification', 'classifier:gradient_boosting:early_stop': 'off', 'classifier:gradient_boosting:l2_regularization': 1e-10, 'classifier:gradient_boosting:learning_rate': 0.056233891852873925, 'classifier:gradient_boosting:loss': 'auto', 'classifier:gradient_boosting:max_bins': 255, 'classifier:gradient_boosting:max_depth': 'None', 'classifier:gradient_boosting:max_leaf_nodes': 227, 'classifier:gradient_boosting:min_samples_leaf': 1, 'classifier:gradient_boosting:scoring': 'loss', 'classifier:gradient_boosting:tol': 1e-07, 'data_preprocessing:categorical_transformer:category_coalescence:minority_coalescer:minimum_fraction': 0.013804150965269345, 'data_preprocessing:numerical_transformer:rescaling:robust_scaler:q_max': 0.8135937885847645, 'data_preprocessing:numerical_transformer:rescaling:robust_scaler:q_min': 0.03412901412113962, 'feature_preprocessor:select_percentile_classification:percentile': 40.38458596584078, 'feature_preprocessor:select_percentile_classification:score_func': 'mutual_info'},\\ndataset_properties={\\n  'task': 2,\\n  'sparse': False,\\n  'multilabel': False,\\n  'multiclass': True,\\n  'target_type': 'classification',\\n  'signed': False})),\\n(0.020000, SimpleClassificationPipeline({'balancing:strategy': 'none', 'classifier:__choice__': 'extra_trees', 'data_preprocessing:categorical_transformer:categorical_encoding:__choice__': 'one_hot_encoding', 'data_preprocessing:categorical_transformer:category_coalescence:__choice__': 'no_coalescense', 'data_preprocessing:numerical_transformer:imputation:strategy': 'median', 'data_preprocessing:numerical_transformer:rescaling:__choice__': 'none', 'feature_preprocessor:__choice__': 'polynomial', 'classifier:extra_trees:bootstrap': 'False', 'classifier:extra_trees:criterion': 'gini', 'classifier:extra_trees:max_depth': 'None', 'classifier:extra_trees:max_features': 0.5707983257382487, 'classifier:extra_trees:max_leaf_nodes': 'None', 'classifier:extra_trees:min_impurity_decrease': 0.0, 'classifier:extra_trees:min_samples_leaf': 3, 'classifier:extra_trees:min_samples_split': 11, 'classifier:extra_trees:min_weight_fraction_leaf': 0.0, 'feature_preprocessor:polynomial:degree': 2, 'feature_preprocessor:polynomial:include_bias': 'False', 'feature_preprocessor:polynomial:interaction_only': 'False'},\\ndataset_properties={\\n  'task': 2,\\n  'sparse': False,\\n  'multilabel': False,\\n  'multiclass': True,\\n  'target_type': 'classification',\\n  'signed': False})),\\n(0.020000, SimpleClassificationPipeline({'balancing:strategy': 'weighting', 'classifier:__choice__': 'gradient_boosting', 'data_preprocessing:categorical_transformer:categorical_encoding:__choice__': 'one_hot_encoding', 'data_preprocessing:categorical_transformer:category_coalescence:__choice__': 'minority_coalescer', 'data_preprocessing:numerical_transformer:imputation:strategy': 'mean', 'data_preprocessing:numerical_transformer:rescaling:__choice__': 'normalize', 'feature_preprocessor:__choice__': 'feature_agglomeration', 'classifier:gradient_boosting:early_stop': 'off', 'classifier:gradient_boosting:l2_regularization': 1e-10, 'classifier:gradient_boosting:learning_rate': 0.0855604974992809, 'classifier:gradient_boosting:loss': 'auto', 'classifier:gradient_boosting:max_bins': 255, 'classifier:gradient_boosting:max_depth': 'None', 'classifier:gradient_boosting:max_leaf_nodes': 31, 'classifier:gradient_boosting:min_samples_leaf': 21, 'classifier:gradient_boosting:scoring': 'loss', 'classifier:gradient_boosting:tol': 1e-07, 'data_preprocessing:categorical_transformer:category_coalescence:minority_coalescer:minimum_fraction': 0.010159946014740783, 'feature_preprocessor:feature_agglomeration:affinity': 'euclidean', 'feature_preprocessor:feature_agglomeration:linkage': 'ward', 'feature_preprocessor:feature_agglomeration:n_clusters': 398, 'feature_preprocessor:feature_agglomeration:pooling_func': 'max'},\\ndataset_properties={\\n  'task': 2,\\n  'sparse': False,\\n  'multilabel': False,\\n  'multiclass': True,\\n  'target_type': 'classification',\\n  'signed': False})),\\n(0.020000, SimpleClassificationPipeline({'balancing:strategy': 'weighting', 'classifier:__choice__': 'gradient_boosting', 'data_preprocessing:categorical_transformer:categorical_encoding:__choice__': 'no_encoding', 'data_preprocessing:categorical_transformer:category_coalescence:__choice__': 'minority_coalescer', 'data_preprocessing:numerical_transformer:imputation:strategy': 'median', 'data_preprocessing:numerical_transformer:rescaling:__choice__': 'robust_scaler', 'feature_preprocessor:__choice__': 'feature_agglomeration', 'classifier:gradient_boosting:early_stop': 'off', 'classifier:gradient_boosting:l2_regularization': 0.4920854223253761, 'classifier:gradient_boosting:learning_rate': 0.02016869506595963, 'classifier:gradient_boosting:loss': 'auto', 'classifier:gradient_boosting:max_bins': 255, 'classifier:gradient_boosting:max_depth': 'None', 'classifier:gradient_boosting:max_leaf_nodes': 4, 'classifier:gradient_boosting:min_samples_leaf': 1, 'classifier:gradient_boosting:scoring': 'loss', 'classifier:gradient_boosting:tol': 1e-07, 'data_preprocessing:categorical_transformer:category_coalescence:minority_coalescer:minimum_fraction': 0.013163698610143153, 'data_preprocessing:numerical_transformer:rescaling:robust_scaler:q_max': 0.75, 'data_preprocessing:numerical_transformer:rescaling:robust_scaler:q_min': 0.23892129510570212, 'feature_preprocessor:feature_agglomeration:affinity': 'euclidean', 'feature_preprocessor:feature_agglomeration:linkage': 'average', 'feature_preprocessor:feature_agglomeration:n_clusters': 30, 'feature_preprocessor:feature_agglomeration:pooling_func': 'median'},\\ndataset_properties={\\n  'task': 2,\\n  'sparse': False,\\n  'multilabel': False,\\n  'multiclass': True,\\n  'target_type': 'classification',\\n  'signed': False})),\\n(0.020000, SimpleClassificationPipeline({'balancing:strategy': 'weighting', 'classifier:__choice__': 'liblinear_svc', 'data_preprocessing:categorical_transformer:categorical_encoding:__choice__': 'one_hot_encoding', 'data_preprocessing:categorical_transformer:category_coalescence:__choice__': 'no_coalescense', 'data_preprocessing:numerical_transformer:imputation:strategy': 'most_frequent', 'data_preprocessing:numerical_transformer:rescaling:__choice__': 'robust_scaler', 'feature_preprocessor:__choice__': 'polynomial', 'classifier:liblinear_svc:C': 999.897948630207, 'classifier:liblinear_svc:dual': 'False', 'classifier:liblinear_svc:fit_intercept': 'True', 'classifier:liblinear_svc:intercept_scaling': 1, 'classifier:liblinear_svc:loss': 'squared_hinge', 'classifier:liblinear_svc:multi_class': 'ovr', 'classifier:liblinear_svc:penalty': 'l2', 'classifier:liblinear_svc:tol': 7.067903490334549e-05, 'data_preprocessing:numerical_transformer:rescaling:robust_scaler:q_max': 0.8031641753134632, 'data_preprocessing:numerical_transformer:rescaling:robust_scaler:q_min': 0.2755613890217945, 'feature_preprocessor:polynomial:degree': 2, 'feature_preprocessor:polynomial:include_bias': 'True', 'feature_preprocessor:polynomial:interaction_only': 'True'},\\ndataset_properties={\\n  'task': 2,\\n  'sparse': False,\\n  'multilabel': False,\\n  'multiclass': True,\\n  'target_type': 'classification',\\n  'signed': False})),\\n(0.020000, SimpleClassificationPipeline({'balancing:strategy': 'weighting', 'classifier:__choice__': 'mlp', 'data_preprocessing:categorical_transformer:categorical_encoding:__choice__': 'one_hot_encoding', 'data_preprocessing:categorical_transformer:category_coalescence:__choice__': 'no_coalescense', 'data_preprocessing:numerical_transformer:imputation:strategy': 'most_frequent', 'data_preprocessing:numerical_transformer:rescaling:__choice__': 'standardize', 'feature_preprocessor:__choice__': 'feature_agglomeration', 'classifier:mlp:activation': 'tanh', 'classifier:mlp:alpha': 0.00021148999718383549, 'classifier:mlp:batch_size': 'auto', 'classifier:mlp:beta_1': 0.9, 'classifier:mlp:beta_2': 0.999, 'classifier:mlp:early_stopping': 'train', 'classifier:mlp:epsilon': 1e-08, 'classifier:mlp:hidden_layer_depth': 3, 'classifier:mlp:learning_rate_init': 0.0007452270241186694, 'classifier:mlp:n_iter_no_change': 32, 'classifier:mlp:num_nodes_per_layer': 113, 'classifier:mlp:shuffle': 'True', 'classifier:mlp:solver': 'adam', 'classifier:mlp:tol': 0.0001, 'feature_preprocessor:feature_agglomeration:affinity': 'euclidean', 'feature_preprocessor:feature_agglomeration:linkage': 'complete', 'feature_preprocessor:feature_agglomeration:n_clusters': 247, 'feature_preprocessor:feature_agglomeration:pooling_func': 'max'},\\ndataset_properties={\\n  'task': 2,\\n  'sparse': False,\\n  'multilabel': False,\\n  'multiclass': True,\\n  'target_type': 'classification',\\n  'signed': False})),\\n(0.020000, SimpleClassificationPipeline({'balancing:strategy': 'weighting', 'classifier:__choice__': 'mlp', 'data_preprocessing:categorical_transformer:categorical_encoding:__choice__': 'one_hot_encoding', 'data_preprocessing:categorical_transformer:category_coalescence:__choice__': 'minority_coalescer', 'data_preprocessing:numerical_transformer:imputation:strategy': 'median', 'data_preprocessing:numerical_transformer:rescaling:__choice__': 'standardize', 'feature_preprocessor:__choice__': 'no_preprocessing', 'classifier:mlp:activation': 'tanh', 'classifier:mlp:alpha': 0.05130970315853245, 'classifier:mlp:batch_size': 'auto', 'classifier:mlp:beta_1': 0.9, 'classifier:mlp:beta_2': 0.999, 'classifier:mlp:early_stopping': 'train', 'classifier:mlp:epsilon': 1e-08, 'classifier:mlp:hidden_layer_depth': 1, 'classifier:mlp:learning_rate_init': 0.011886168721795693, 'classifier:mlp:n_iter_no_change': 32, 'classifier:mlp:num_nodes_per_layer': 87, 'classifier:mlp:shuffle': 'True', 'classifier:mlp:solver': 'adam', 'classifier:mlp:tol': 0.0001, 'data_preprocessing:categorical_transformer:category_coalescence:minority_coalescer:minimum_fraction': 0.0034970053451089736},\\ndataset_properties={\\n  'task': 2,\\n  'sparse': False,\\n  'multilabel': False,\\n  'multiclass': True,\\n  'target_type': 'classification',\\n  'signed': False})),\\n(0.020000, SimpleClassificationPipeline({'balancing:strategy': 'none', 'classifier:__choice__': 'lda', 'data_preprocessing:categorical_transformer:categorical_encoding:__choice__': 'one_hot_encoding', 'data_preprocessing:categorical_transformer:category_coalescence:__choice__': 'minority_coalescer', 'data_preprocessing:numerical_transformer:imputation:strategy': 'mean', 'data_preprocessing:numerical_transformer:rescaling:__choice__': 'minmax', 'feature_preprocessor:__choice__': 'select_percentile_classification', 'classifier:lda:shrinkage': 'manual', 'classifier:lda:tol': 3.0404596847374037e-05, 'data_preprocessing:categorical_transformer:category_coalescence:minority_coalescer:minimum_fraction': 0.00018024227529824812, 'feature_preprocessor:select_percentile_classification:percentile': 22.044262383554543, 'feature_preprocessor:select_percentile_classification:score_func': 'f_classif', 'classifier:lda:shrinkage_factor': 0.9457379824042854},\\ndataset_properties={\\n  'task': 2,\\n  'sparse': False,\\n  'multilabel': False,\\n  'multiclass': True,\\n  'target_type': 'classification',\\n  'signed': False})),\\n(0.020000, SimpleClassificationPipeline({'balancing:strategy': 'none', 'classifier:__choice__': 'lda', 'data_preprocessing:categorical_transformer:categorical_encoding:__choice__': 'no_encoding', 'data_preprocessing:categorical_transformer:category_coalescence:__choice__': 'minority_coalescer', 'data_preprocessing:numerical_transformer:imputation:strategy': 'mean', 'data_preprocessing:numerical_transformer:rescaling:__choice__': 'normalize', 'feature_preprocessor:__choice__': 'fast_ica', 'classifier:lda:shrinkage': 'auto', 'classifier:lda:tol': 0.0098919099869085, 'data_preprocessing:categorical_transformer:category_coalescence:minority_coalescer:minimum_fraction': 0.13250461225881133, 'feature_preprocessor:fast_ica:algorithm': 'parallel', 'feature_preprocessor:fast_ica:fun': 'cube', 'feature_preprocessor:fast_ica:whiten': 'True', 'feature_preprocessor:fast_ica:n_components': 974},\\ndataset_properties={\\n  'task': 2,\\n  'sparse': False,\\n  'multilabel': False,\\n  'multiclass': True,\\n  'target_type': 'classification',\\n  'signed': False})),\\n(0.020000, SimpleClassificationPipeline({'balancing:strategy': 'weighting', 'classifier:__choice__': 'extra_trees', 'data_preprocessing:categorical_transformer:categorical_encoding:__choice__': 'no_encoding', 'data_preprocessing:categorical_transformer:category_coalescence:__choice__': 'minority_coalescer', 'data_preprocessing:numerical_transformer:imputation:strategy': 'median', 'data_preprocessing:numerical_transformer:rescaling:__choice__': 'normalize', 'feature_preprocessor:__choice__': 'no_preprocessing', 'classifier:extra_trees:bootstrap': 'True', 'classifier:extra_trees:criterion': 'gini', 'classifier:extra_trees:max_depth': 'None', 'classifier:extra_trees:max_features': 0.917760748976002, 'classifier:extra_trees:max_leaf_nodes': 'None', 'classifier:extra_trees:min_impurity_decrease': 0.0, 'classifier:extra_trees:min_samples_leaf': 17, 'classifier:extra_trees:min_samples_split': 2, 'classifier:extra_trees:min_weight_fraction_leaf': 0.0, 'data_preprocessing:categorical_transformer:category_coalescence:minority_coalescer:minimum_fraction': 0.005881969366374333},\\ndataset_properties={\\n  'task': 2,\\n  'sparse': False,\\n  'multilabel': False,\\n  'multiclass': True,\\n  'target_type': 'classification',\\n  'signed': False})),\\n(0.020000, SimpleClassificationPipeline({'balancing:strategy': 'none', 'classifier:__choice__': 'gaussian_nb', 'data_preprocessing:categorical_transformer:categorical_encoding:__choice__': 'one_hot_encoding', 'data_preprocessing:categorical_transformer:category_coalescence:__choice__': 'minority_coalescer', 'data_preprocessing:numerical_transformer:imputation:strategy': 'mean', 'data_preprocessing:numerical_transformer:rescaling:__choice__': 'standardize', 'feature_preprocessor:__choice__': 'pca', 'data_preprocessing:categorical_transformer:category_coalescence:minority_coalescer:minimum_fraction': 0.010552578191179156, 'feature_preprocessor:pca:keep_variance': 0.9416242114489165, 'feature_preprocessor:pca:whiten': 'False'},\\ndataset_properties={\\n  'task': 2,\\n  'sparse': False,\\n  'multilabel': False,\\n  'multiclass': True,\\n  'target_type': 'classification',\\n  'signed': False})),\\n(0.020000, SimpleClassificationPipeline({'balancing:strategy': 'weighting', 'classifier:__choice__': 'gaussian_nb', 'data_preprocessing:categorical_transformer:categorical_encoding:__choice__': 'no_encoding', 'data_preprocessing:categorical_transformer:category_coalescence:__choice__': 'no_coalescense', 'data_preprocessing:numerical_transformer:imputation:strategy': 'mean', 'data_preprocessing:numerical_transformer:rescaling:__choice__': 'quantile_transformer', 'feature_preprocessor:__choice__': 'pca', 'data_preprocessing:numerical_transformer:rescaling:quantile_transformer:n_quantiles': 125, 'data_preprocessing:numerical_transformer:rescaling:quantile_transformer:output_distribution': 'normal', 'feature_preprocessor:pca:keep_variance': 0.5982822032379613, 'feature_preprocessor:pca:whiten': 'False'},\\ndataset_properties={\\n  'task': 2,\\n  'sparse': False,\\n  'multilabel': False,\\n  'multiclass': True,\\n  'target_type': 'classification',\\n  'signed': False})),\\n(0.020000, SimpleClassificationPipeline({'balancing:strategy': 'weighting', 'classifier:__choice__': 'qda', 'data_preprocessing:categorical_transformer:categorical_encoding:__choice__': 'no_encoding', 'data_preprocessing:categorical_transformer:category_coalescence:__choice__': 'minority_coalescer', 'data_preprocessing:numerical_transformer:imputation:strategy': 'most_frequent', 'data_preprocessing:numerical_transformer:rescaling:__choice__': 'normalize', 'feature_preprocessor:__choice__': 'select_rates_classification', 'classifier:qda:reg_param': 0.7792438763180048, 'data_preprocessing:categorical_transformer:category_coalescence:minority_coalescer:minimum_fraction': 0.0005109953843449615, 'feature_preprocessor:select_rates_classification:alpha': 0.3903063671139996, 'feature_preprocessor:select_rates_classification:score_func': 'f_classif', 'feature_preprocessor:select_rates_classification:mode': 'fpr'},\\ndataset_properties={\\n  'task': 2,\\n  'sparse': False,\\n  'multilabel': False,\\n  'multiclass': True,\\n  'target_type': 'classification',\\n  'signed': False})),\\n]\""
            ]
          },
          "metadata": {
            "tags": []
          },
          "execution_count": 12
        }
      ]
    },
    {
      "cell_type": "code",
      "metadata": {
        "id": "Ganl-HT83Fqq"
      },
      "source": [
        ""
      ],
      "execution_count": null,
      "outputs": []
    }
  ]
}